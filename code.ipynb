{
  "cells": [
    {
      "cell_type": "code",
      "execution_count": 2,
      "id": "f04babad",
      "metadata": {
        "execution": {
          "iopub.execute_input": "2023-05-04T17:23:23.306719Z",
          "iopub.status.busy": "2023-05-04T17:23:23.306349Z",
          "iopub.status.idle": "2023-05-04T17:23:30.085777Z",
          "shell.execute_reply": "2023-05-04T17:23:30.084773Z"
        },
        "id": "f04babad",
        "papermill": {
          "duration": 6.792009,
          "end_time": "2023-05-04T17:23:30.088452",
          "exception": false,
          "start_time": "2023-05-04T17:23:23.296443",
          "status": "completed"
        },
        "tags": []
      },
      "outputs": [
        {
          "name": "stdout",
          "output_type": "stream",
          "text": [
            "WARNING:tensorflow:From c:\\Users\\HP\\AppData\\Local\\Programs\\Python\\Python311\\Lib\\site-packages\\keras\\src\\losses.py:2976: The name tf.losses.sparse_softmax_cross_entropy is deprecated. Please use tf.compat.v1.losses.sparse_softmax_cross_entropy instead.\n",
            "\n"
          ]
        }
      ],
      "source": [
        "#Import necessary Libraries\n",
        "import pandas as pd\n",
        "import numpy as np\n",
        "\n",
        "import string\n",
        "import re\n",
        "import os\n",
        "\n",
        "import tensorflow as tf\n",
        "from sklearn.model_selection import train_test_split\n",
        "from tensorflow.keras.layers import TextVectorization\n",
        "from tensorflow import keras\n",
        "from tensorflow.keras import layers\n",
        "\n",
        "from params import *\n"
      ]
    },
    {
      "cell_type": "code",
      "execution_count": 3,
      "id": "e072d36a",
      "metadata": {
        "colab": {
          "base_uri": "https://localhost:8080/",
          "height": 224
        },
        "execution": {
          "iopub.execute_input": "2023-05-04T17:23:30.114884Z",
          "iopub.status.busy": "2023-05-04T17:23:30.114270Z",
          "iopub.status.idle": "2023-05-04T17:23:30.410451Z",
          "shell.execute_reply": "2023-05-04T17:23:30.409558Z"
        },
        "id": "e072d36a",
        "outputId": "581a03d8-6be0-4feb-f904-57d7bc51fa1a",
        "papermill": {
          "duration": 0.305366,
          "end_time": "2023-05-04T17:23:30.412531",
          "exception": false,
          "start_time": "2023-05-04T17:23:30.107165",
          "status": "completed"
        },
        "tags": []
      },
      "outputs": [
        {
          "name": "stdout",
          "output_type": "stream",
          "text": [
            "**********************\n"
          ]
        },
        {
          "data": {
            "text/html": [
              "<div>\n",
              "<style scoped>\n",
              "    .dataframe tbody tr th:only-of-type {\n",
              "        vertical-align: middle;\n",
              "    }\n",
              "\n",
              "    .dataframe tbody tr th {\n",
              "        vertical-align: top;\n",
              "    }\n",
              "\n",
              "    .dataframe thead th {\n",
              "        text-align: right;\n",
              "    }\n",
              "</style>\n",
              "<table border=\"1\" class=\"dataframe\">\n",
              "  <thead>\n",
              "    <tr style=\"text-align: right;\">\n",
              "      <th></th>\n",
              "      <th>english</th>\n",
              "      <th>spanish</th>\n",
              "    </tr>\n",
              "  </thead>\n",
              "  <tbody>\n",
              "    <tr>\n",
              "      <th>0</th>\n",
              "      <td>Go.</td>\n",
              "      <td>Ve.</td>\n",
              "    </tr>\n",
              "    <tr>\n",
              "      <th>1</th>\n",
              "      <td>Go.</td>\n",
              "      <td>Vete.</td>\n",
              "    </tr>\n",
              "    <tr>\n",
              "      <th>2</th>\n",
              "      <td>Go.</td>\n",
              "      <td>Vaya.</td>\n",
              "    </tr>\n",
              "    <tr>\n",
              "      <th>3</th>\n",
              "      <td>Go.</td>\n",
              "      <td>Váyase.</td>\n",
              "    </tr>\n",
              "    <tr>\n",
              "      <th>4</th>\n",
              "      <td>Hi.</td>\n",
              "      <td>Hola.</td>\n",
              "    </tr>\n",
              "  </tbody>\n",
              "</table>\n",
              "</div>"
            ],
            "text/plain": [
              "  english  spanish\n",
              "0     Go.      Ve.\n",
              "1     Go.    Vete.\n",
              "2     Go.    Vaya.\n",
              "3     Go.  Váyase.\n",
              "4     Hi.    Hola."
            ]
          },
          "execution_count": 3,
          "metadata": {},
          "output_type": "execute_result"
        }
      ],
      "source": [
        "my_df = pd.read_csv(\"Dataset/data.csv\")\n",
        "print(\"**********************\")\n",
        "my_df.head()\n",
        "\n"
      ]
    },
    {
      "cell_type": "code",
      "execution_count": 4,
      "id": "o61ovPetUei_",
      "metadata": {
        "colab": {
          "base_uri": "https://localhost:8080/"
        },
        "id": "o61ovPetUei_",
        "outputId": "8bb39804-8f66-47d9-f199-534721570667"
      },
      "outputs": [
        {
          "name": "stdout",
          "output_type": "stream",
          "text": [
            "<class 'pandas.core.frame.DataFrame'>\n",
            "RangeIndex: 118964 entries, 0 to 118963\n",
            "Data columns (total 2 columns):\n",
            " #   Column   Non-Null Count   Dtype \n",
            "---  ------   --------------   ----- \n",
            " 0   english  118964 non-null  object\n",
            " 1   spanish  118964 non-null  object\n",
            "dtypes: object(2)\n",
            "memory usage: 1.8+ MB\n",
            "**********************\n"
          ]
        }
      ],
      "source": [
        "my_df.info()\n",
        "print(\"**********************\")"
      ]
    },
    {
      "cell_type": "code",
      "execution_count": 5,
      "id": "1e4ebc77",
      "metadata": {},
      "outputs": [],
      "source": [
        "# This line of code modifies the \"spanish\" column of the DataFrame `my_df` by applying a lambda function to each item in the column..\n",
        "\n",
        "my_df[\"spanish\"] = my_df[\"spanish\"].apply(lambda item: Get_Params.begin_token + \" \" + item + \" \" + Get_Params.end_token)"
      ]
    },
    {
      "cell_type": "code",
      "execution_count": 6,
      "id": "bf4138c0",
      "metadata": {},
      "outputs": [
        {
          "name": "stdout",
          "output_type": "stream",
          "text": [
            "Missing Values:\n",
            "english    0\n",
            "spanish    0\n",
            "dtype: int64\n"
          ]
        },
        {
          "data": {
            "text/html": [
              "<div>\n",
              "<style scoped>\n",
              "    .dataframe tbody tr th:only-of-type {\n",
              "        vertical-align: middle;\n",
              "    }\n",
              "\n",
              "    .dataframe tbody tr th {\n",
              "        vertical-align: top;\n",
              "    }\n",
              "\n",
              "    .dataframe thead th {\n",
              "        text-align: right;\n",
              "    }\n",
              "</style>\n",
              "<table border=\"1\" class=\"dataframe\">\n",
              "  <thead>\n",
              "    <tr style=\"text-align: right;\">\n",
              "      <th></th>\n",
              "      <th>english</th>\n",
              "      <th>spanish</th>\n",
              "    </tr>\n",
              "  </thead>\n",
              "  <tbody>\n",
              "    <tr>\n",
              "      <th>0</th>\n",
              "      <td>Go.</td>\n",
              "      <td>[start] Ve. [end]</td>\n",
              "    </tr>\n",
              "    <tr>\n",
              "      <th>1</th>\n",
              "      <td>Go.</td>\n",
              "      <td>[start] Vete. [end]</td>\n",
              "    </tr>\n",
              "    <tr>\n",
              "      <th>2</th>\n",
              "      <td>Go.</td>\n",
              "      <td>[start] Vaya. [end]</td>\n",
              "    </tr>\n",
              "    <tr>\n",
              "      <th>3</th>\n",
              "      <td>Go.</td>\n",
              "      <td>[start] Váyase. [end]</td>\n",
              "    </tr>\n",
              "    <tr>\n",
              "      <th>4</th>\n",
              "      <td>Hi.</td>\n",
              "      <td>[start] Hola. [end]</td>\n",
              "    </tr>\n",
              "  </tbody>\n",
              "</table>\n",
              "</div>"
            ],
            "text/plain": [
              "  english                spanish\n",
              "0     Go.      [start] Ve. [end]\n",
              "1     Go.    [start] Vete. [end]\n",
              "2     Go.    [start] Vaya. [end]\n",
              "3     Go.  [start] Váyase. [end]\n",
              "4     Hi.    [start] Hola. [end]"
            ]
          },
          "execution_count": 6,
          "metadata": {},
          "output_type": "execute_result"
        }
      ],
      "source": [
        "missing_values = my_df.isnull().sum()\n",
        "\n",
        "print(\"Missing Values:\")\n",
        "print(missing_values)\n",
        "\n",
        "my_df.head()"
      ]
    },
    {
      "cell_type": "code",
      "execution_count": 7,
      "id": "9688af96",
      "metadata": {},
      "outputs": [
        {
          "name": "stdout",
          "output_type": "stream",
          "text": [
            "!\"#$%&'()*+,-./:;<=>?@\\^_`{|}~¿\n",
            "WARNING:tensorflow:From c:\\Users\\HP\\AppData\\Local\\Programs\\Python\\Python311\\Lib\\site-packages\\keras\\src\\backend.py:873: The name tf.get_default_graph is deprecated. Please use tf.compat.v1.get_default_graph instead.\n",
            "\n",
            "WARNING:tensorflow:From c:\\Users\\HP\\AppData\\Local\\Programs\\Python\\Python311\\Lib\\site-packages\\keras\\src\\utils\\tf_utils.py:492: The name tf.ragged.RaggedTensorValue is deprecated. Please use tf.compat.v1.ragged.RaggedTensorValue instead.\n",
            "\n"
          ]
        }
      ],
      "source": [
        "# Define punctuation marks along with the Spanish inverted question mark (\"¿\") to be removed or replaced.\n",
        "prepro_ = string.punctuation + \"¿\"\n",
        "\n",
        "# Remove square brackets from the punctuation set.\n",
        "prepro_ = prepro_.replace(\"[\", \"\")\n",
        "prepro_ = prepro_.replace(\"]\", \"\")\n",
        "\n",
        "# Print the updated set of punctuation marks.\n",
        "print(prepro_)\n",
        "\n",
        "# Define a function to perform Spanish text standardization by converting input strings to lowercase and removing specified punctuation marks.\n",
        "def perform_spanish_standardization(input_string):\n",
        "    lowercase = tf.strings.lower(input_string)  # Convert input string to lowercase.\n",
        "    return tf.strings.regex_replace(lowercase, \"[%s]\" % re.escape(prepro_), \"\")  # Remove specified punctuation marks.\n",
        "\n",
        "# Instantiate a TextVectorization layer for English text with specified parameters.\n",
        "vect_eng = TextVectorization(\n",
        "    max_tokens=Get_Params.vocab_size,  # Maximum vocabulary size.\n",
        "    output_mode=\"int\",  # Output integers corresponding to token indices.\n",
        "    output_sequence_length=Get_Params.sequence_length,  # Output sequences of fixed length.\n",
        ")\n",
        "\n",
        "# Instantiate a TextVectorization layer for Spanish text with specified parameters.\n",
        "vect_spa = TextVectorization(\n",
        "    max_tokens=Get_Params.vocab_size,  # Maximum vocabulary size.\n",
        "    output_mode=\"int\",  # Output integers corresponding to token indices.\n",
        "    output_sequence_length=Get_Params.sequence_length + 1,  # Output sequences of fixed length with an additional token.\n",
        "    standardize=perform_spanish_standardization,  # Apply Spanish text standardization.\n",
        ")\n",
        "\n",
        "# Adapt the English TextVectorization layer to the English text data from the DataFrame.\n",
        "vect_eng.adapt(list(my_df[\"english\"]))\n",
        "\n",
        "# Adapt the Spanish TextVectorization layer to the Spanish text data from the DataFrame after applying standardization.\n",
        "vect_spa.adapt(list(my_df[\"spanish\"]))"
      ]
    },
    {
      "cell_type": "code",
      "execution_count": 8,
      "id": "7635bc6d",
      "metadata": {},
      "outputs": [],
      "source": [
        "def preprocess(english, spanish):\n",
        "    # This function preprocesses the input English and Spanish sequences by splitting each Spanish sequence into two parts:\n",
        "    # - The input consists of the English sequence and the Spanish sequence with the last token removed.\n",
        "    # - The target output consists of the Spanish sequence with the first token removed.\n",
        "    return (english, spanish[:, :-1]), spanish[:, 1:]\n",
        "\n"
      ]
    },
    {
      "cell_type": "code",
      "execution_count": 9,
      "id": "02686a40",
      "metadata": {},
      "outputs": [],
      "source": [
        "def gen_data(df, batch_size, mode):\n",
        "    # This function generates a TensorFlow dataset from the DataFrame `df` containing English and Spanish sequences.\n",
        "    # It first converts the English and Spanish sequences into numerical vectors using functions `vect_eng` and `vect_spa`.\n",
        "    english = vect_eng(list(df[\"english\"]))\n",
        "    spanish = vect_spa(list(df[\"spanish\"]))\n",
        "    dataset = tf.data.Dataset.from_tensor_slices((english, spanish))\n",
        "    if mode == \"train\":\n",
        "       # If the mode is set to \"train\", shuffle the dataset to introduce randomness in the training process.\n",
        "       dataset = dataset.shuffle(256)\n",
        "    # Batch the dataset into batches of size `batch_size`.\n",
        "    dataset = dataset.batch(batch_size)\n",
        "    # Apply the `preprocess` function to each element in the dataset, splitting each Spanish sequence into input and target sequences.\n",
        "    dataset = dataset.map(preprocess)\n",
        "    # Take a number of batches equal to the length of the dataset divided by the batch size.\n",
        "    dataset = dataset.take(len(df) // batch_size)\n",
        "    # Cache the dataset to memory for faster access, prefetch 16 batches for efficient data loading, and repeat the dataset once.\n",
        "    dataset = dataset.cache().prefetch(16).repeat(1)\n",
        "    return dataset"
      ]
    },
    {
      "cell_type": "code",
      "execution_count": 10,
      "id": "4fb8befa",
      "metadata": {},
      "outputs": [
        {
          "name": "stdout",
          "output_type": "stream",
          "text": [
            "Training set\n"
          ]
        },
        {
          "data": {
            "text/plain": [
              "(101119, 2)"
            ]
          },
          "execution_count": 10,
          "metadata": {},
          "output_type": "execute_result"
        }
      ],
      "source": [
        "train, valid = train_test_split(my_df, test_size=Get_Params.validation_split)\n",
        "print(\"Training set\")\n",
        "train.shape"
      ]
    },
    {
      "cell_type": "code",
      "execution_count": 11,
      "id": "ce315f2e",
      "metadata": {},
      "outputs": [
        {
          "name": "stdout",
          "output_type": "stream",
          "text": [
            "Testing Set\n"
          ]
        },
        {
          "data": {
            "text/plain": [
              "(17845, 2)"
            ]
          },
          "execution_count": 11,
          "metadata": {},
          "output_type": "execute_result"
        }
      ],
      "source": [
        "print(\"Testing Set\")\n",
        "valid.shape"
      ]
    },
    {
      "cell_type": "code",
      "execution_count": 12,
      "id": "7f98100d",
      "metadata": {},
      "outputs": [],
      "source": [
        "train_ds = gen_data(train, batch_size=Get_Params.batch_size, mode=\"train\")\n",
        "valid_ds = gen_data(valid, batch_size=Get_Params.batch_size, mode=\"valid\")"
      ]
    },
    {
      "cell_type": "code",
      "execution_count": 13,
      "id": "f5985a22",
      "metadata": {},
      "outputs": [
        {
          "name": "stdout",
          "output_type": "stream",
          "text": [
            "((<tf.Tensor: shape=(64, 20), dtype=int64, numpy=\n",
            "array([[   6,  118,    3, ...,    0,    0,    0],\n",
            "       [   8,   13,  289, ...,    0,    0,    0],\n",
            "       [  24,   15,    5, ...,    0,    0,    0],\n",
            "       ...,\n",
            "       [ 105,   95,    4, ...,    0,    0,    0],\n",
            "       [   2, 7824,    8, ...,    0,    0,    0],\n",
            "       [   6,   50, 1662, ...,    0,    0,    0]], dtype=int64)>, <tf.Tensor: shape=(64, 20), dtype=int64, numpy=\n",
            "array([[  2,   8,  91, ...,   0,   0,   0],\n",
            "       [  2,  12, 110, ...,   0,   0,   0],\n",
            "       [  2,  27, 425, ...,   0,   0,   0],\n",
            "       ...,\n",
            "       [  2,  89,  47, ...,   0,   0,   0],\n",
            "       [  2,   9,   1, ...,   0,   0,   0],\n",
            "       [  2,   8, 130, ...,   0,   0,   0]], dtype=int64)>), <tf.Tensor: shape=(64, 20), dtype=int64, numpy=\n",
            "array([[   8,   91,    5, ...,    0,    0,    0],\n",
            "       [  12,  110,    5, ...,    0,    0,    0],\n",
            "       [  27,  425,   18, ...,    0,    0,    0],\n",
            "       ...,\n",
            "       [  89,   47,    5, ...,    0,    0,    0],\n",
            "       [   9,    1,   22, ...,    0,    0,    0],\n",
            "       [   8,  130, 1834, ...,    0,    0,    0]], dtype=int64)>)\n"
          ]
        }
      ],
      "source": [
        "for batch in train_ds.take(1):\n",
        "    print(batch)"
      ]
    },
    {
      "cell_type": "code",
      "execution_count": 14,
      "id": "9c32db4d",
      "metadata": {},
      "outputs": [],
      "source": [
        "class FNetEncoder(layers.Layer):\n",
        "    def __init__(self, embed_dim, dense_dim, **kwargs):\n",
        "        super(FNetEncoder, self).__init__(**kwargs)  # Initialize the superclass with any additional arguments\n",
        "        self.embed_dim = embed_dim  # Store the embedding dimension\n",
        "        self.dense_dim = dense_dim  # Store the dense layer dimension\n",
        "        # Define a sequential model for projecting the input\n",
        "        self.dense_proj = keras.Sequential(\n",
        "            [\n",
        "                layers.Dense(dense_dim, activation=\"relu\"),  # Dense layer with ReLU activation\n",
        "                layers.Dense(embed_dim),  # Dense layer without activation\n",
        "            ]\n",
        "        )\n",
        "        self.layernorm_1 = layers.LayerNormalization()  # Layer normalization instance\n",
        "        self.layernorm_2 = layers.LayerNormalization()  # Another layer normalization instance\n",
        "\n",
        "    def call(self, inputs):\n",
        "        # Cast inputs to complex64 datatype\n",
        "        inp_complex = tf.cast(inputs, tf.complex64)\n",
        "        # Compute 2D Fast Fourier Transform (FFT) and take the real part\n",
        "        fft = tf.math.real(tf.signal.fft2d(inp_complex))\n",
        "        # Add the FFT result to the inputs and normalize\n",
        "        proj_input = self.layernorm_1(inputs + fft)\n",
        "        # Project the input through the dense layers\n",
        "        proj_output = self.dense_proj(proj_input)\n",
        "        # Add the projected output to the input and normalize\n",
        "        return self.layernorm_2(proj_input + proj_output)"
      ]
    }
  ],
  "metadata": {
    "accelerator": "GPU",
    "colab": {
      "gpuType": "T4",
      "provenance": []
    },
    "kernelspec": {
      "display_name": "Python 3",
      "name": "python3"
    },
    "language_info": {
      "codemirror_mode": {
        "name": "ipython",
        "version": 3
      },
      "file_extension": ".py",
      "mimetype": "text/x-python",
      "name": "python",
      "nbconvert_exporter": "python",
      "pygments_lexer": "ipython3",
      "version": "3.11.5"
    },
    "papermill": {
      "default_parameters": {},
      "duration": 907.1236,
      "end_time": "2023-05-04T17:38:21.527285",
      "environment_variables": {},
      "exception": null,
      "input_path": "__notebook__.ipynb",
      "output_path": "__notebook__.ipynb",
      "parameters": {},
      "start_time": "2023-05-04T17:23:14.403685",
      "version": "2.4.0"
    }
  },
  "nbformat": 4,
  "nbformat_minor": 5
}
